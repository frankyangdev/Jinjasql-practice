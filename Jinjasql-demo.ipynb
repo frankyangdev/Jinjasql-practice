{
 "cells": [
  {
   "cell_type": "markdown",
   "source": [
    "### Reference ###\r\n",
    "\r\n",
    "1. [Github Repo - Jinjasql](https://github.com/sripathikrishnan/jinjasql)\r\n",
    "   \r\n",
    "2. [simple-approach](https://towardsdatascience.com/a-simple-approach-to-templated-sql-queries-in-python-adc4f0dc511)\r\n",
    "   \r\n",
    "3. [advanced-sql-templates](https://towardsdatascience.com/advanced-sql-templates-in-python-with-jinjasql-b996eadd761d)"
   ],
   "metadata": {}
  },
  {
   "cell_type": "code",
   "execution_count": null,
   "source": [
    "!pip3 install jinjasql"
   ],
   "outputs": [],
   "metadata": {}
  },
  {
   "cell_type": "code",
   "execution_count": 2,
   "source": [
    "user_transaction_template = '''\r\n",
    "select\r\n",
    "    user_id\r\n",
    "    , count(*) as num_transactions\r\n",
    "    , sum(amount) as total_amount\r\n",
    "from\r\n",
    "    transactions\r\n",
    "where\r\n",
    "    user_id = {{ user_id }}\r\n",
    "    and transaction_date = {{ transaction_date }}\r\n",
    "group by\r\n",
    "    user_id\r\n",
    "'''"
   ],
   "outputs": [],
   "metadata": {}
  },
  {
   "cell_type": "code",
   "execution_count": 3,
   "source": [
    "params = {\r\n",
    "    'user_id': 1234,\r\n",
    "    'transaction_date': '2019-03-02',\r\n",
    "}"
   ],
   "outputs": [],
   "metadata": {}
  },
  {
   "cell_type": "code",
   "execution_count": 4,
   "source": [
    "from jinjasql import JinjaSql\r\n",
    "j = JinjaSql(param_style='pyformat')\r\n",
    "query, bind_params = j.prepare_query(user_transaction_template, params)"
   ],
   "outputs": [],
   "metadata": {}
  },
  {
   "cell_type": "code",
   "execution_count": 5,
   "source": [
    "print(query)"
   ],
   "outputs": [
    {
     "output_type": "stream",
     "name": "stdout",
     "text": [
      "\n",
      "select\n",
      "    user_id\n",
      "    , count(*) as num_transactions\n",
      "    , sum(amount) as total_amount\n",
      "from\n",
      "    transactions\n",
      "where\n",
      "    user_id = %(user_id_1)s\n",
      "    and transaction_date = %(transaction_date_2)s\n",
      "group by\n",
      "    user_id\n"
     ]
    }
   ],
   "metadata": {}
  },
  {
   "cell_type": "code",
   "execution_count": 6,
   "source": [
    "print(bind_params)"
   ],
   "outputs": [
    {
     "output_type": "stream",
     "name": "stdout",
     "text": [
      "{'user_id_1': 1234, 'transaction_date_2': '2019-03-02'}\n"
     ]
    }
   ],
   "metadata": {}
  },
  {
   "cell_type": "code",
   "execution_count": 7,
   "source": [
    "print(query % bind_params)\r\n"
   ],
   "outputs": [
    {
     "output_type": "stream",
     "name": "stdout",
     "text": [
      "\n",
      "select\n",
      "    user_id\n",
      "    , count(*) as num_transactions\n",
      "    , sum(amount) as total_amount\n",
      "from\n",
      "    transactions\n",
      "where\n",
      "    user_id = 1234\n",
      "    and transaction_date = 2019-03-02\n",
      "group by\n",
      "    user_id\n"
     ]
    }
   ],
   "metadata": {}
  },
  {
   "cell_type": "code",
   "execution_count": 14,
   "source": [
    "from six import string_types\r\n"
   ],
   "outputs": [],
   "metadata": {}
  },
  {
   "cell_type": "code",
   "execution_count": 15,
   "source": [
    "from six import string_types\r\n",
    "def quote_sql_string(value):\r\n",
    "    '''\r\n",
    "    If `value` is a string type, escapes single quotes in the string\r\n",
    "    and returns the string enclosed in single quotes.\r\n",
    "    '''\r\n",
    "    if isinstance(value, string_types):\r\n",
    "        new_value = str(value)\r\n",
    "        new_value = new_value.replace(\"'\", \"''\")\r\n",
    "        return \"'{}'\".format(new_value)\r\n",
    "    return value"
   ],
   "outputs": [],
   "metadata": {}
  },
  {
   "cell_type": "code",
   "execution_count": 17,
   "source": [
    "from copy import deepcopy\r\n",
    "def get_sql_from_template(query, bind_params):\r\n",
    "    if not bind_params:\r\n",
    "        return query\r\n",
    "    params = deepcopy(bind_params)\r\n",
    "    for key, val in params.items():\r\n",
    "        params[key] = quote_sql_string(val)\r\n",
    "    return query % params"
   ],
   "outputs": [],
   "metadata": {}
  },
  {
   "cell_type": "code",
   "execution_count": 18,
   "source": [
    "print(get_sql_from_template(query, bind_params))"
   ],
   "outputs": [
    {
     "output_type": "stream",
     "name": "stdout",
     "text": [
      "\n",
      "select\n",
      "    user_id\n",
      "    , count(*) as num_transactions\n",
      "    , sum(amount) as total_amount\n",
      "from\n",
      "    transactions\n",
      "where\n",
      "    user_id = 1234\n",
      "    and transaction_date = '2019-03-02'\n",
      "group by\n",
      "    user_id\n"
     ]
    }
   ],
   "metadata": {}
  },
  {
   "cell_type": "code",
   "execution_count": 19,
   "source": [
    "\r\n",
    "def apply_sql_template(template, parameters):\r\n",
    "    '''\r\n",
    "    Apply a JinjaSql template (string) substituting parameters (dict) and return\r\n",
    "    the final SQL.\r\n",
    "    '''\r\n",
    "    j = JinjaSql(param_style='pyformat')\r\n",
    "    query, bind_params = j.prepare_query(template, parameters)\r\n",
    "    return get_sql_from_template(query, bind_params)"
   ],
   "outputs": [],
   "metadata": {}
  },
  {
   "cell_type": "code",
   "execution_count": 20,
   "source": [
    "COLUMN_STATS_TEMPLATE = '''\r\n",
    "select\r\n",
    "    {{ column_name | sqlsafe }} as column_name\r\n",
    "    , count(*) as num_rows\r\n",
    "    , count(distinct {{ column_name | sqlsafe }}) as num_unique\r\n",
    "    , sum(case when {{ column_name | sqlsafe }} is null then 1 else 0 end) as num_nulls\r\n",
    "    {% if default_value %}\r\n",
    "    , sum(case when {{ column_name | sqlsafe }} = {{ default_value }} then 1 else 0 end) as num_default\r\n",
    "    {% else %}\r\n",
    "    , 0 as num_default\r\n",
    "    {% endif %}\r\n",
    "    , min({{ column_name | sqlsafe }}) as min_value\r\n",
    "    , max({{ column_name | sqlsafe }}) as max_value\r\n",
    "from\r\n",
    "    {{ table_name | sqlsafe }}\r\n",
    "'''"
   ],
   "outputs": [],
   "metadata": {}
  },
  {
   "cell_type": "code",
   "execution_count": 21,
   "source": [
    "def get_column_stats_sql(table_name, column_name, default_value):\r\n",
    "    '''\r\n",
    "    Returns the SQL for computing column statistics.\r\n",
    "    Passing None for the default_value results in zero output for the number\r\n",
    "    of default values.\r\n",
    "    '''\r\n",
    "    params = {\r\n",
    "        'table_name': table_name,\r\n",
    "        'column_name': column_name,\r\n",
    "        'default_value': default_value,\r\n",
    "    }\r\n",
    "    return apply_sql_template(COLUMN_STATS_TEMPLATE, params)"
   ],
   "outputs": [],
   "metadata": {}
  },
  {
   "cell_type": "code",
   "execution_count": 22,
   "source": [
    "print(get_column_stats_sql('transactions', 'user_id', None))"
   ],
   "outputs": [
    {
     "output_type": "stream",
     "name": "stdout",
     "text": [
      "\n",
      "select\n",
      "    user_id as column_name\n",
      "    , count(*) as num_rows\n",
      "    , count(distinct user_id) as num_unique\n",
      "    , sum(case when user_id is null then 1 else 0 end) as num_nulls\n",
      "    \n",
      "    , 0 as num_default\n",
      "    \n",
      "    , min(user_id) as min_value\n",
      "    , max(user_id) as max_value\n",
      "from\n",
      "    transactions\n"
     ]
    }
   ],
   "metadata": {}
  }
 ],
 "metadata": {
  "orig_nbformat": 4,
  "language_info": {
   "name": "python",
   "version": "3.8.0",
   "mimetype": "text/x-python",
   "codemirror_mode": {
    "name": "ipython",
    "version": 3
   },
   "pygments_lexer": "ipython3",
   "nbconvert_exporter": "python",
   "file_extension": ".py"
  },
  "kernelspec": {
   "name": "python3",
   "display_name": "Python 3.8.0 32-bit"
  },
  "interpreter": {
   "hash": "9e34ef116c7e4a6ddcc37cef96550197dd831dee288cd9827db89ec3eac20ba6"
  }
 },
 "nbformat": 4,
 "nbformat_minor": 2
}